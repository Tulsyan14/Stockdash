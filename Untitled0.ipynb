{
  "nbformat": 4,
  "nbformat_minor": 0,
  "metadata": {
    "colab": {
      "provenance": [],
      "authorship_tag": "ABX9TyOct5lds2BvV5pTLe0uVaVU",
      "include_colab_link": true
    },
    "kernelspec": {
      "name": "python3",
      "display_name": "Python 3"
    },
    "language_info": {
      "name": "python"
    }
  },
  "cells": [
    {
      "cell_type": "markdown",
      "metadata": {
        "id": "view-in-github",
        "colab_type": "text"
      },
      "source": [
        "<a href=\"https://colab.research.google.com/github/Tulsyan14/Stockdash/blob/main/Untitled0.ipynb\" target=\"_parent\"><img src=\"https://colab.research.google.com/assets/colab-badge.svg\" alt=\"Open In Colab\"/></a>"
      ]
    },
    {
      "cell_type": "code",
      "execution_count": 1,
      "metadata": {
        "colab": {
          "base_uri": "https://localhost:8080/"
        },
        "id": "OnsYAw5OTmBu",
        "outputId": "57686469-6566-4972-b2bf-fdba38c15fbd"
      },
      "outputs": [
        {
          "output_type": "stream",
          "name": "stdout",
          "text": [
            "Collecting bsedata\n",
            "  Downloading bsedata-0.5.4-py3-none-any.whl (14 kB)\n",
            "Requirement already satisfied: beautifulsoup4 in /usr/local/lib/python3.10/dist-packages (from bsedata) (4.11.2)\n",
            "Requirement already satisfied: requests in /usr/local/lib/python3.10/dist-packages (from bsedata) (2.31.0)\n",
            "Requirement already satisfied: lxml in /usr/local/lib/python3.10/dist-packages (from bsedata) (4.9.4)\n",
            "Requirement already satisfied: soupsieve>1.2 in /usr/local/lib/python3.10/dist-packages (from beautifulsoup4->bsedata) (2.5)\n",
            "Requirement already satisfied: charset-normalizer<4,>=2 in /usr/local/lib/python3.10/dist-packages (from requests->bsedata) (3.3.2)\n",
            "Requirement already satisfied: idna<4,>=2.5 in /usr/local/lib/python3.10/dist-packages (from requests->bsedata) (3.6)\n",
            "Requirement already satisfied: urllib3<3,>=1.21.1 in /usr/local/lib/python3.10/dist-packages (from requests->bsedata) (2.0.7)\n",
            "Requirement already satisfied: certifi>=2017.4.17 in /usr/local/lib/python3.10/dist-packages (from requests->bsedata) (2023.11.17)\n",
            "Installing collected packages: bsedata\n",
            "Successfully installed bsedata-0.5.4\n"
          ]
        }
      ],
      "source": [
        "pip install bsedata"
      ]
    },
    {
      "cell_type": "code",
      "source": [
        "from bsedata.bse import BSE"
      ],
      "metadata": {
        "id": "lWPdoBc4TsFa"
      },
      "execution_count": 2,
      "outputs": []
    },
    {
      "cell_type": "code",
      "source": [
        "b = BSE()"
      ],
      "metadata": {
        "id": "gudcyMLWT3K1"
      },
      "execution_count": 3,
      "outputs": []
    },
    {
      "cell_type": "code",
      "source": [
        "print(b)"
      ],
      "metadata": {
        "colab": {
          "base_uri": "https://localhost:8080/"
        },
        "id": "9Ypsj9zNT-Ed",
        "outputId": "027bae62-9a36-4826-b071-e6e83bcdcab5"
      },
      "execution_count": 4,
      "outputs": [
        {
          "output_type": "stream",
          "name": "stdout",
          "text": [
            "Driver Class for Bombay Stock Exchange (BSE)\n"
          ]
        }
      ]
    },
    {
      "cell_type": "code",
      "source": [
        "q = b.getQuote('534976')\n",
        "q"
      ],
      "metadata": {
        "colab": {
          "base_uri": "https://localhost:8080/"
        },
        "id": "wK7EU206UBH2",
        "outputId": "647176ef-2475-499b-d57a-3f0c9f7eab99"
      },
      "execution_count": 7,
      "outputs": [
        {
          "output_type": "execute_result",
          "data": {
            "text/plain": [
              "{'companyName': 'V-MART RETAIL LTD.',\n",
              " 'currentValue': '2076.80',\n",
              " 'change': '7.25',\n",
              " 'pChange': '0.35',\n",
              " 'updatedOn': '25 Jan 24 | 04:00 PM',\n",
              " 'securityID': 'VMART',\n",
              " 'scripCode': '534976',\n",
              " 'group': 'A  / S&P BSE 500',\n",
              " 'faceValue': '10.00',\n",
              " 'industry': 'Consumer Services',\n",
              " 'previousClose': '2069.55',\n",
              " 'previousOpen': '2054.90',\n",
              " 'dayHigh': '2100.00',\n",
              " 'dayLow': '2038.45',\n",
              " '52weekHigh': '2864.95',\n",
              " '52weekLow': '1591.00',\n",
              " 'weightedAvgPrice': '2056.62',\n",
              " 'totalTradedValue': '0.05 Cr.',\n",
              " 'totalTradedQuantity': '0.00 Lakh',\n",
              " '2WeekAvgQuantity': '0.01 Lakh',\n",
              " 'marketCapFull': '4,107.21 Cr.',\n",
              " 'marketCapFreeFloat': '2,300.04 Cr.',\n",
              " 'buy': {'1': {'quantity': '-', 'price': '0.00'},\n",
              "  '2': {'quantity': '-', 'price': '0.00'},\n",
              "  '3': {'quantity': '-', 'price': '0.00'},\n",
              "  '4': {'quantity': '-', 'price': '0.00'},\n",
              "  '5': {'quantity': '-', 'price': '0.00'}},\n",
              " 'sell': {'1': {'price': '0.00', 'quantity': '-'},\n",
              "  '2': {'price': '0.00', 'quantity': '-'},\n",
              "  '3': {'price': '0.00', 'quantity': '-'},\n",
              "  '4': {'price': '0.00', 'quantity': '-'},\n",
              "  '5': {'price': '0.00', 'quantity': '-'}}}"
            ]
          },
          "metadata": {},
          "execution_count": 7
        }
      ]
    },
    {
      "cell_type": "code",
      "source": [
        "codelist =[\"500116\",\"512573\"]\n",
        "\n",
        "for code in codelist:\n",
        "  quote = b.getQuote(code)\n",
        "  print(quote[\"companyName\"])\n",
        "  print(quote[\"currentValue\"])\n",
        "  print(quote[\"updatedOn\"])\n"
      ],
      "metadata": {
        "colab": {
          "base_uri": "https://localhost:8080/"
        },
        "id": "um4R3VVBUkby",
        "outputId": "36e2af72-35d5-4367-d879-56ad4779c785"
      },
      "execution_count": 8,
      "outputs": [
        {
          "output_type": "stream",
          "name": "stdout",
          "text": [
            "IDBI BANK LTD.\n",
            "83.56\n",
            "25 Jan 24 | 04:00 PM\n",
            "AVANTI FEEDS LTD.-$\n",
            "507.70\n",
            "25 Jan 24 | 04:00 PM\n"
          ]
        }
      ]
    },
    {
      "cell_type": "code",
      "source": [
        "b.topGainers()\n"
      ],
      "metadata": {
        "colab": {
          "base_uri": "https://localhost:8080/"
        },
        "id": "t9VG1lwQXezg",
        "outputId": "642995f1-92e2-430b-dd82-dcbcae143d06"
      },
      "execution_count": 10,
      "outputs": [
        {
          "output_type": "execute_result",
          "data": {
            "text/plain": [
              "[{'securityID': 'RITES',\n",
              "  'scripCode': '541556',\n",
              "  'LTP': '686.10',\n",
              "  'change': '108.05',\n",
              "  'pChange': '18.69'},\n",
              " {'securityID': 'VAKRANGEE',\n",
              "  'scripCode': '511431',\n",
              "  'LTP': '22.87',\n",
              "  'change': '2.32',\n",
              "  'pChange': '11.29'},\n",
              " {'securityID': 'ACC',\n",
              "  'scripCode': '500410',\n",
              "  'LTP': '2,477.80',\n",
              "  'change': '241.65',\n",
              "  'pChange': '10.81'},\n",
              " {'securityID': 'RAILTEL',\n",
              "  'scripCode': '543265',\n",
              "  'LTP': '437.25',\n",
              "  'change': '40.65',\n",
              "  'pChange': '10.25'},\n",
              " {'securityID': 'SCI',\n",
              "  'scripCode': '523598',\n",
              "  'LTP': '209.45',\n",
              "  'change': '19.40',\n",
              "  'pChange': '10.21'}]"
            ]
          },
          "metadata": {},
          "execution_count": 10
        }
      ]
    },
    {
      "cell_type": "code",
      "source": [
        "import yfinance as yf\n",
        "\n",
        "# Fetch data for 'RELIANCE.NS'\n",
        "tickerSymbol1 = 'RELIANCE.NS'\n",
        "tickerData1 = yf.Ticker(tickerSymbol1)\n",
        "tickerDf1 = tickerData1.history(period='1d', start='2024-1-1', end='2024-1-10')\n",
        "print(\"Data for 'RELIANCE.NS':\\n\", tickerDf1)\n",
        "\n",
        "# Fetch data for 'ABB.NS'\n",
        "tickerSymbol2 = 'ABB.NS'\n",
        "tickerData2 = yf.Ticker(tickerSymbol2)\n",
        "tickerDf2 = tickerData2.history(period='1d', start='2024-1-1', end='2024-1-10')\n",
        "print(\"\\nData for 'ABB.NS':\\n\", tickerDf2)\n"
      ],
      "metadata": {
        "colab": {
          "base_uri": "https://localhost:8080/"
        },
        "id": "FPu0HqmZXs8i",
        "outputId": "79fae755-3ab1-4acb-fa9e-53606ecb19ea"
      },
      "execution_count": 42,
      "outputs": [
        {
          "output_type": "stream",
          "name": "stdout",
          "text": [
            "Data for 'RELIANCE.NS':\n",
            "                                   Open         High          Low        Close  \\\n",
            "Date                                                                            \n",
            "2024-01-01 00:00:00+05:30  2580.550049  2606.850098  2573.149902  2590.250000   \n",
            "2024-01-02 00:00:00+05:30  2585.000000  2615.000000  2573.000000  2611.699951   \n",
            "2024-01-03 00:00:00+05:30  2610.000000  2634.000000  2577.199951  2583.300049   \n",
            "2024-01-04 00:00:00+05:30  2588.000000  2609.850098  2579.100098  2596.649902   \n",
            "2024-01-05 00:00:00+05:30  2602.899902  2619.850098  2598.000000  2607.699951   \n",
            "2024-01-08 00:00:00+05:30  2610.000000  2631.949951  2568.949951  2587.350098   \n",
            "2024-01-09 00:00:00+05:30  2600.000000  2606.800049  2577.199951  2580.500000   \n",
            "\n",
            "                            Volume  Dividends  Stock Splits  \n",
            "Date                                                         \n",
            "2024-01-01 00:00:00+05:30  2015270        0.0           0.0  \n",
            "2024-01-02 00:00:00+05:30  3724400        0.0           0.0  \n",
            "2024-01-03 00:00:00+05:30  4518768        0.0           0.0  \n",
            "2024-01-04 00:00:00+05:30  4806389        0.0           0.0  \n",
            "2024-01-05 00:00:00+05:30  4043203        0.0           0.0  \n",
            "2024-01-08 00:00:00+05:30  3867326        0.0           0.0  \n",
            "2024-01-09 00:00:00+05:30  2701537        0.0           0.0  \n",
            "\n",
            "Data for 'ABB.NS':\n",
            "                                   Open         High          Low        Close  \\\n",
            "Date                                                                            \n",
            "2024-01-01 00:00:00+05:30  4674.850098  4715.000000  4653.799805  4682.200195   \n",
            "2024-01-02 00:00:00+05:30  4699.950195  4713.000000  4600.000000  4701.600098   \n",
            "2024-01-03 00:00:00+05:30  4714.000000  4829.899902  4699.100098  4775.549805   \n",
            "2024-01-04 00:00:00+05:30  4818.899902  4866.000000  4770.049805  4824.750000   \n",
            "2024-01-05 00:00:00+05:30  4855.950195  4900.000000  4802.000000  4832.350098   \n",
            "2024-01-08 00:00:00+05:30  4856.000000  4856.000000  4740.000000  4752.950195   \n",
            "2024-01-09 00:00:00+05:30  4784.000000  4973.649902  4780.000000  4920.399902   \n",
            "\n",
            "                           Volume  Dividends  Stock Splits  \n",
            "Date                                                        \n",
            "2024-01-01 00:00:00+05:30   84544        0.0           0.0  \n",
            "2024-01-02 00:00:00+05:30  178550        0.0           0.0  \n",
            "2024-01-03 00:00:00+05:30  291954        0.0           0.0  \n",
            "2024-01-04 00:00:00+05:30  266936        0.0           0.0  \n",
            "2024-01-05 00:00:00+05:30  118877        0.0           0.0  \n",
            "2024-01-08 00:00:00+05:30   60882        0.0           0.0  \n",
            "2024-01-09 00:00:00+05:30  571239        0.0           0.0  \n"
          ]
        }
      ]
    },
    {
      "cell_type": "code",
      "source": [
        "pip install dash plotly pandas"
      ],
      "metadata": {
        "colab": {
          "base_uri": "https://localhost:8080/"
        },
        "id": "OJmQDl5GfwuP",
        "outputId": "15180ad3-e5bd-4b7d-fa38-878d3bc3b33b"
      },
      "execution_count": 43,
      "outputs": [
        {
          "output_type": "stream",
          "name": "stdout",
          "text": [
            "Requirement already satisfied: dash in /usr/local/lib/python3.10/dist-packages (2.14.2)\n",
            "Requirement already satisfied: plotly in /usr/local/lib/python3.10/dist-packages (5.15.0)\n",
            "Requirement already satisfied: pandas in /usr/local/lib/python3.10/dist-packages (1.5.3)\n",
            "Requirement already satisfied: Flask<3.1,>=1.0.4 in /usr/local/lib/python3.10/dist-packages (from dash) (2.2.5)\n",
            "Requirement already satisfied: Werkzeug<3.1 in /usr/local/lib/python3.10/dist-packages (from dash) (3.0.1)\n",
            "Requirement already satisfied: dash-html-components==2.0.0 in /usr/local/lib/python3.10/dist-packages (from dash) (2.0.0)\n",
            "Requirement already satisfied: dash-core-components==2.0.0 in /usr/local/lib/python3.10/dist-packages (from dash) (2.0.0)\n",
            "Requirement already satisfied: dash-table==5.0.0 in /usr/local/lib/python3.10/dist-packages (from dash) (5.0.0)\n",
            "Requirement already satisfied: typing-extensions>=4.1.1 in /usr/local/lib/python3.10/dist-packages (from dash) (4.5.0)\n",
            "Requirement already satisfied: requests in /usr/local/lib/python3.10/dist-packages (from dash) (2.31.0)\n",
            "Requirement already satisfied: retrying in /usr/local/lib/python3.10/dist-packages (from dash) (1.3.4)\n",
            "Requirement already satisfied: ansi2html in /usr/local/lib/python3.10/dist-packages (from dash) (1.9.1)\n",
            "Requirement already satisfied: nest-asyncio in /usr/local/lib/python3.10/dist-packages (from dash) (1.6.0)\n",
            "Requirement already satisfied: setuptools in /usr/local/lib/python3.10/dist-packages (from dash) (67.7.2)\n",
            "Requirement already satisfied: importlib-metadata in /usr/local/lib/python3.10/dist-packages (from dash) (7.0.1)\n",
            "Requirement already satisfied: tenacity>=6.2.0 in /usr/local/lib/python3.10/dist-packages (from plotly) (8.2.3)\n",
            "Requirement already satisfied: packaging in /usr/local/lib/python3.10/dist-packages (from plotly) (23.2)\n",
            "Requirement already satisfied: python-dateutil>=2.8.1 in /usr/local/lib/python3.10/dist-packages (from pandas) (2.8.2)\n",
            "Requirement already satisfied: pytz>=2020.1 in /usr/local/lib/python3.10/dist-packages (from pandas) (2023.3.post1)\n",
            "Requirement already satisfied: numpy>=1.21.0 in /usr/local/lib/python3.10/dist-packages (from pandas) (1.23.5)\n",
            "Requirement already satisfied: Jinja2>=3.0 in /usr/local/lib/python3.10/dist-packages (from Flask<3.1,>=1.0.4->dash) (3.1.3)\n",
            "Requirement already satisfied: itsdangerous>=2.0 in /usr/local/lib/python3.10/dist-packages (from Flask<3.1,>=1.0.4->dash) (2.1.2)\n",
            "Requirement already satisfied: click>=8.0 in /usr/local/lib/python3.10/dist-packages (from Flask<3.1,>=1.0.4->dash) (8.1.7)\n",
            "Requirement already satisfied: six>=1.5 in /usr/local/lib/python3.10/dist-packages (from python-dateutil>=2.8.1->pandas) (1.16.0)\n",
            "Requirement already satisfied: MarkupSafe>=2.1.1 in /usr/local/lib/python3.10/dist-packages (from Werkzeug<3.1->dash) (2.1.4)\n",
            "Requirement already satisfied: zipp>=0.5 in /usr/local/lib/python3.10/dist-packages (from importlib-metadata->dash) (3.17.0)\n",
            "Requirement already satisfied: charset-normalizer<4,>=2 in /usr/local/lib/python3.10/dist-packages (from requests->dash) (3.3.2)\n",
            "Requirement already satisfied: idna<4,>=2.5 in /usr/local/lib/python3.10/dist-packages (from requests->dash) (3.6)\n",
            "Requirement already satisfied: urllib3<3,>=1.21.1 in /usr/local/lib/python3.10/dist-packages (from requests->dash) (2.0.7)\n",
            "Requirement already satisfied: certifi>=2017.4.17 in /usr/local/lib/python3.10/dist-packages (from requests->dash) (2023.11.17)\n"
          ]
        }
      ]
    },
    {
      "cell_type": "code",
      "source": [
        "import yfinance as yf\n",
        "import dash\n",
        "from dash import dcc, html\n",
        "from dash.dependencies import Input, Output\n",
        "import plotly.graph_objs as go\n",
        "from datetime import datetime, timedelta\n"
      ],
      "metadata": {
        "id": "oxICicy1gAhi"
      },
      "execution_count": 44,
      "outputs": []
    },
    {
      "cell_type": "code",
      "source": [
        "app = dash.Dash(__name__)\n"
      ],
      "metadata": {
        "id": "na3QNV0lgsMW"
      },
      "execution_count": 45,
      "outputs": []
    },
    {
      "cell_type": "code",
      "source": [
        "company_names = {\n",
        "    'RELIANCE.NS': 'Reliance Stock',\n",
        "    'ABB.NS': 'ABB Stock'\n",
        "}\n"
      ],
      "metadata": {
        "id": "m2MahmQklUtH"
      },
      "execution_count": 46,
      "outputs": []
    },
    {
      "cell_type": "code",
      "source": [
        "app.layout = html.Div([\n",
        "    html.H1(\"Stock Data\", className=\"main-heading\"),\n",
        "    html.Div([\n",
        "        html.Label(\"Select Company:\"),\n",
        "        dcc.Dropdown(\n",
        "            id='company-dropdown',\n",
        "            options=[{'label': name, 'value': ticker} for ticker, name in company_names.items()],\n",
        "            value='RELIANCE.NS', # default value\n",
        "            clearable=False\n",
        "        ),\n",
        "        html.Label(\"Select Time Range:\"),\n",
        "        dcc.Dropdown(\n",
        "            id='time-range-dropdown',\n",
        "            options=[\n",
        "                {'label': '1 Day', 'value': '1D'},\n",
        "                {'label': '1 Week', 'value': '1W'},\n",
        "                {'label': '1 Month', 'value': '1M'},\n",
        "            ],\n",
        "            value='1D', # default value\n",
        "            clearable=False\n",
        "        ),\n",
        "    ]),\n",
        "    dcc.Graph(id='stock-data-graph')\n",
        "])\n"
      ],
      "metadata": {
        "id": "OUoTvtm8gvDB"
      },
      "execution_count": 47,
      "outputs": []
    },
    {
      "cell_type": "code",
      "source": [
        "@app.callback(\n",
        "    Output('stock-data-graph', 'figure'),\n",
        "    [Input('company-dropdown', 'value'), Input('time-range-dropdown', 'value')]\n",
        ")\n",
        "def update_graph(selected_company, selected_time_range):\n",
        "    # Adjust the start date based on the selected time range\n",
        "    today = datetime.today()\n",
        "    if selected_time_range == '1D':\n",
        "        start_date = today - timedelta(days=1)\n",
        "    elif selected_time_range == '1W':\n",
        "        start_date = today - timedelta(weeks=1)\n",
        "    else: # '1M'\n",
        "        start_date = today - timedelta(days=30)\n",
        "\n",
        "    # Fetch the stock data for the selected company and time range\n",
        "    tickerData = yf.Ticker(selected_company)\n",
        "    tickerDf = tickerData.history(period='1d', start=start_date, end=today)\n",
        "\n",
        "    # Plot the data\n",
        "    figure = go.Figure(data=[\n",
        "        go.Scatter(x=tickerDf.index, y=tickerDf['Close'], mode='lines', name=company_names[selected_company])\n",
        "    ])\n",
        "    figure.update_layout(title=f\"{company_names[selected_company]} Price Over Time\")\n",
        "    return figure\n"
      ],
      "metadata": {
        "id": "xtYYcEX8gzug"
      },
      "execution_count": 48,
      "outputs": []
    },
    {
      "cell_type": "code",
      "source": [
        "if __name__ == '__main__':\n",
        "    app.run_server(debug=True)\n"
      ],
      "metadata": {
        "colab": {
          "base_uri": "https://localhost:8080/",
          "height": 671
        },
        "id": "S2FBLDRzg3L0",
        "outputId": "8d535a75-22d8-4c25-fd90-557324703d7b"
      },
      "execution_count": 49,
      "outputs": [
        {
          "output_type": "display_data",
          "data": {
            "text/plain": [
              "<IPython.core.display.Javascript object>"
            ],
            "application/javascript": [
              "(async (port, path, width, height, cache, element) => {\n",
              "    if (!google.colab.kernel.accessAllowed && !cache) {\n",
              "      return;\n",
              "    }\n",
              "    element.appendChild(document.createTextNode(''));\n",
              "    const url = await google.colab.kernel.proxyPort(port, {cache});\n",
              "    const iframe = document.createElement('iframe');\n",
              "    iframe.src = new URL(path, url).toString();\n",
              "    iframe.height = height;\n",
              "    iframe.width = width;\n",
              "    iframe.style.border = 0;\n",
              "    iframe.allow = [\n",
              "        'accelerometer',\n",
              "        'autoplay',\n",
              "        'camera',\n",
              "        'clipboard-read',\n",
              "        'clipboard-write',\n",
              "        'gyroscope',\n",
              "        'magnetometer',\n",
              "        'microphone',\n",
              "        'serial',\n",
              "        'usb',\n",
              "        'xr-spatial-tracking',\n",
              "    ].join('; ');\n",
              "    element.appendChild(iframe);\n",
              "  })(8050, \"/\", \"100%\", 650, false, window.element)"
            ]
          },
          "metadata": {}
        }
      ]
    },
    {
      "cell_type": "code",
      "source": [],
      "metadata": {
        "id": "qblX4XZwg7Qy"
      },
      "execution_count": null,
      "outputs": []
    }
  ]
}